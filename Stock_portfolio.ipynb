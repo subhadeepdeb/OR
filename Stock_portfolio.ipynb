{
 "cells": [
  {
   "cell_type": "markdown",
   "id": "4c7d7101-7c1a-47cf-b434-eaef467be5c9",
   "metadata": {},
   "source": [
    "# Stock Portfolio Optimization\n",
    "\n",
    "Consider we have 3 stocks, we expect these stocks to take a certain future value at a given variance. Our task is to spend all our allocated budget to buy the stocks so that we can cross the expected profit levels."
   ]
  },
  {
   "cell_type": "code",
   "execution_count": 13,
   "id": "9d0f528a-d484-409d-b422-c50c0e2cb1e6",
   "metadata": {},
   "outputs": [
    {
     "name": "stdout",
     "output_type": "stream",
     "text": [
      "Requirement already satisfied: pyomo in c:\\users\\user\\appdata\\local\\programs\\python\\python312\\lib\\site-packages (6.6.2)\n",
      "Requirement already satisfied: ply in c:\\users\\user\\appdata\\local\\programs\\python\\python312\\lib\\site-packages (from pyomo) (3.11)\n"
     ]
    },
    {
     "name": "stderr",
     "output_type": "stream",
     "text": [
      "\n",
      "[notice] A new release of pip is available: 23.2.1 -> 23.3.1\n",
      "[notice] To update, run: python.exe -m pip install --upgrade pip\n"
     ]
    }
   ],
   "source": [
    "# installing pyomo\n",
    "!pip install pyomo"
   ]
  },
  {
   "cell_type": "code",
   "execution_count": 14,
   "id": "006a6ab6-dffd-4c6c-994d-44c74aa1105a",
   "metadata": {},
   "outputs": [],
   "source": [
    "from pyomo.environ import *\n",
    "from pyomo.opt import SolverFactory"
   ]
  },
  {
   "cell_type": "code",
   "execution_count": 3,
   "id": "10197b41-97fc-42a1-ac7f-76d6e3ae50dc",
   "metadata": {},
   "outputs": [],
   "source": [
    "from APMonitor import *"
   ]
  },
  {
   "cell_type": "code",
   "execution_count": 5,
   "id": "588e9c80-d208-4046-b8b3-4ae3ba59fb6e",
   "metadata": {},
   "outputs": [],
   "source": [
    "from apm import *"
   ]
  },
  {
   "cell_type": "code",
   "execution_count": 15,
   "id": "7777a6c4-0c48-4f05-b788-965fc058a06b",
   "metadata": {},
   "outputs": [
    {
     "data": {
      "text/plain": [
       "['__builtins__',\n",
       " '__cached__',\n",
       " '__doc__',\n",
       " '__file__',\n",
       " '__loader__',\n",
       " '__name__',\n",
       " '__package__',\n",
       " '__path__',\n",
       " '__spec__',\n",
       " '__version__',\n",
       " 'common',\n",
       " 'contrib',\n",
       " 'core',\n",
       " 'dae',\n",
       " 'dataportal',\n",
       " 'duality',\n",
       " 'environ',\n",
       " 'gdp',\n",
       " 'mpec',\n",
       " 'neos',\n",
       " 'network',\n",
       " 'opt',\n",
       " 'repn',\n",
       " 'scripting',\n",
       " 'solvers',\n",
       " 'util',\n",
       " 'version']"
      ]
     },
     "execution_count": 15,
     "metadata": {},
     "output_type": "execute_result"
    }
   ],
   "source": [
    "dir(pyomo)"
   ]
  },
  {
   "cell_type": "code",
   "execution_count": 16,
   "id": "f7d32b18-0022-4faf-bb4c-e9ccd0eda686",
   "metadata": {},
   "outputs": [],
   "source": [
    "import pandas as pd"
   ]
  },
  {
   "cell_type": "code",
   "execution_count": 17,
   "id": "0a76e0b7-246b-4e7f-80b3-ce5742740edf",
   "metadata": {},
   "outputs": [],
   "source": [
    "# read sample excel sheet\n",
    "data = pd.read_excel(\"C:/Users/User/OneDrive/Documents/OR PROJECTS/Stock_Sample_Data_1.xlsx\")"
   ]
  },
  {
   "cell_type": "code",
   "execution_count": 18,
   "id": "599e03ea-38bd-4d42-b714-0ded93bcd13d",
   "metadata": {},
   "outputs": [
    {
     "data": {
      "text/html": [
       "<div>\n",
       "<style scoped>\n",
       "    .dataframe tbody tr th:only-of-type {\n",
       "        vertical-align: middle;\n",
       "    }\n",
       "\n",
       "    .dataframe tbody tr th {\n",
       "        vertical-align: top;\n",
       "    }\n",
       "\n",
       "    .dataframe thead th {\n",
       "        text-align: right;\n",
       "    }\n",
       "</style>\n",
       "<table border=\"1\" class=\"dataframe\">\n",
       "  <thead>\n",
       "    <tr style=\"text-align: right;\">\n",
       "      <th></th>\n",
       "      <th>Stock</th>\n",
       "      <th>Current Price</th>\n",
       "      <th>Expected Future Price</th>\n",
       "      <th>Variance</th>\n",
       "    </tr>\n",
       "  </thead>\n",
       "  <tbody>\n",
       "    <tr>\n",
       "      <th>0</th>\n",
       "      <td>1</td>\n",
       "      <td>50</td>\n",
       "      <td>55</td>\n",
       "      <td>100</td>\n",
       "    </tr>\n",
       "    <tr>\n",
       "      <th>1</th>\n",
       "      <td>2</td>\n",
       "      <td>40</td>\n",
       "      <td>50</td>\n",
       "      <td>1600</td>\n",
       "    </tr>\n",
       "    <tr>\n",
       "      <th>2</th>\n",
       "      <td>3</td>\n",
       "      <td>25</td>\n",
       "      <td>20</td>\n",
       "      <td>100</td>\n",
       "    </tr>\n",
       "  </tbody>\n",
       "</table>\n",
       "</div>"
      ],
      "text/plain": [
       "   Stock  Current Price  Expected Future Price  Variance\n",
       "0      1             50                     55       100\n",
       "1      2             40                     50      1600\n",
       "2      3             25                     20       100"
      ]
     },
     "execution_count": 18,
     "metadata": {},
     "output_type": "execute_result"
    }
   ],
   "source": [
    "data"
   ]
  },
  {
   "cell_type": "code",
   "execution_count": 47,
   "id": "e3d25114-0db1-4a93-9b6e-afe813eba7d8",
   "metadata": {},
   "outputs": [],
   "source": [
    "# taking lists from the dataset\n",
    "\n",
    "stock = data.index\n",
    "curr_price = data['Current Price']\n",
    "exp_price = data['Expected Future Price']\n",
    "variance = data['Variance']\n",
    "\n",
    "Budget = 100000\n",
    "expected_return = 110000\n",
    "exp_return_2 = 200000"
   ]
  },
  {
   "cell_type": "code",
   "execution_count": 48,
   "id": "bdb6f80b-dfb2-4703-acc6-242063b9e555",
   "metadata": {},
   "outputs": [],
   "source": [
    "# Creating a Pyomo concrete model\n",
    "model_1 = ConcreteModel()"
   ]
  },
  {
   "cell_type": "code",
   "execution_count": 49,
   "id": "87d96f31-74da-4c8e-822b-e089da9f3559",
   "metadata": {},
   "outputs": [],
   "source": [
    "# creating variables\n",
    "model_1.stks = Set(initialize = stock)\n",
    "model_1.x = Var(model_1.stks, domain= NonNegativeReals)"
   ]
  },
  {
   "cell_type": "code",
   "execution_count": 50,
   "id": "a283b7f4-a7a4-44cc-b6b5-ef4bf9bf0c70",
   "metadata": {},
   "outputs": [],
   "source": [
    "# defining objective function\n",
    "model_1.obj = Objective(expr = sum(variance[stks]**2 * model_1.x[stks] for stks in model_1.stks), sense =minimize)"
   ]
  },
  {
   "cell_type": "code",
   "execution_count": 51,
   "id": "65f08447-9740-48ca-816a-6ee3ba729ec6",
   "metadata": {},
   "outputs": [
    {
     "name": "stdout",
     "output_type": "stream",
     "text": [
      "WARNING: Implicitly replacing the Component attribute budget_constraints\n",
      "(type=<class 'pyomo.core.base.constraint.ScalarConstraint'>) on block unknown\n",
      "with a new Component (type=<class\n",
      "'pyomo.core.base.constraint.AbstractScalarConstraint'>). This is usually\n",
      "indicative of a modelling error. To avoid this warning, use\n",
      "block.del_component() and block.add_component().\n"
     ]
    }
   ],
   "source": [
    "# defining constraints\n",
    "model_1.budget_constraints = Constraint(expr = sum(model_1.x[stks]*curr_price[stks] for stks in model_1.stks) <=Budget)\n",
    "model_1.budget_constraints = Constraint(expr = sum(model_1.x[stks]*exp_price[stks] for stks in model_1.stks) >= exp_return_2)"
   ]
  },
  {
   "cell_type": "code",
   "execution_count": 52,
   "id": "eb3b1cc0-f9d8-4c9b-afe4-5bccd9b49561",
   "metadata": {},
   "outputs": [
    {
     "data": {
      "text/plain": [
       "{'Problem': [{'Lower bound': -inf, 'Upper bound': inf, 'Number of objectives': 1, 'Number of constraints': 1, 'Number of variables': 3, 'Sense': 'unknown'}], 'Solver': [{'Status': 'ok', 'Message': 'Ipopt 3.14.13\\\\x3a Optimal Solution Found', 'Termination condition': 'optimal', 'Id': 0, 'Error rc': 0, 'Time': 0.08388066291809082}], 'Solution': [OrderedDict({'number of solutions': 0, 'number of solutions displayed': 0})]}"
      ]
     },
     "execution_count": 52,
     "metadata": {},
     "output_type": "execute_result"
    }
   ],
   "source": [
    "solver = SolverFactory('ipopt', executable='C:/Users/User/AppData/Local/Programs/Python/Python312/Scripts/Ipopt/bin/ipopt.exe', tee=True)\n",
    "solver.solve(model_1)"
   ]
  },
  {
   "cell_type": "code",
   "execution_count": 53,
   "id": "7f60759f-5171-4aa4-89ee-2d5c4b1b49dd",
   "metadata": {},
   "outputs": [
    {
     "name": "stdout",
     "output_type": "stream",
     "text": [
      "Objective Value : 36363636.320074275\n",
      "Variable Values:\n",
      "x_0: 3636.3636345609084\n",
      "x_1: -9.974851659129978e-09\n",
      "x_2: 8.089787738791755e-11\n"
     ]
    }
   ],
   "source": [
    "# displayig the results\n",
    "print(\"Objective Value :\", value(model_1.obj))\n",
    "print(\"Variable Values:\")\n",
    "for stk in model_1.stks:\n",
    "    print(f\"x_{stk}:\", value(model_1.x[stk]))"
   ]
  }
 ],
 "metadata": {
  "kernelspec": {
   "display_name": "Python 3 (ipykernel)",
   "language": "python",
   "name": "python3"
  },
  "language_info": {
   "codemirror_mode": {
    "name": "ipython",
    "version": 3
   },
   "file_extension": ".py",
   "mimetype": "text/x-python",
   "name": "python",
   "nbconvert_exporter": "python",
   "pygments_lexer": "ipython3",
   "version": "3.12.0"
  }
 },
 "nbformat": 4,
 "nbformat_minor": 5
}
