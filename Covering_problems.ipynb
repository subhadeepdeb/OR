{
 "cells": [
  {
   "cell_type": "markdown",
   "id": "1bf9acd7-5374-4889-9ab8-cec1c6f35227",
   "metadata": {},
   "source": [
    "# Set covering problem\n",
    "Consider a set of demands i and a set of warehouse locations j, the distance between demand i and location j is $d_{ij}$ >0 where $i \\in I$ and $j \\in J$. \n",
    "A service level s >0 is given by all the warehouse locations and demand i is said to be satisfied by location j only $d_{ij}$ < s. How to allocate as few facilities as possible to cover all the demand centers? "
   ]
  },
  {
   "cell_type": "markdown",
   "id": "60ae26f9-3c61-4975-bdea-66388cac306d",
   "metadata": {},
   "source": [
    "#### Answer\n",
    "\n",
    "##### choosing variables\n",
    "Let us assume a variable $a_{ij}$ such that if a location j is able to cover demand i, then $a_{ij}$ = 1 otherwise $a_{ij}$ =0.\n",
    "\\\n",
    "Let $x_{j}$ = 1 if a warehouse is built in location j or 0 otherwise.\n"
   ]
  },
  {
   "cell_type": "markdown",
   "id": "657888db-aa5e-4496-8956-1aba8aff674f",
   "metadata": {},
   "source": [
    "##### objective function\n",
    "\n",
    "$Min \\sum(x_{j})$ for $j \\in J$\n",
    "\n",
    "##### constraints\n",
    "- all demands should be covered : $\\sum_j (a_{ij} * x_{j})$ >=1 for $i \\in I$, $j \\in J$ and $x_{j} \\in {1,0}$"
   ]
  },
  {
   "cell_type": "code",
   "execution_count": 16,
   "id": "a1a17c91-55cc-4ffe-bf71-0b0ad69d2ee7",
   "metadata": {},
   "outputs": [],
   "source": [
    "# importing \n",
    "import pulp\n",
    "from pulp import *"
   ]
  },
  {
   "cell_type": "code",
   "execution_count": 17,
   "id": "32d9fc01-32f3-4c47-9256-4f7575f87bcc",
   "metadata": {},
   "outputs": [],
   "source": [
    "# assuming values of I, J, s, d\n",
    "I = 8\n",
    "J = 5\n",
    "s = 3 \n",
    "#d = {{4,5,3,3,4},{3,5,6,4,3},{4,2,5,6,3},{5,5,5,6,2},{4,3,3,4,3},{2,4,5,3,4},{3,4,1,4,4},{3,4,3,2,1}}\n",
    "d = {(1, 1): 4, (1, 2): 5, (1, 3): 3, (1, 4): 3, (1, 5): 4, (2, 1): 3, (2, 2): 5, (2, 3): 6, (2, 4): 4, (2, 5): 3, (3, 1): 4, (3, 2): 2, (3, 3): 5, (3, 4): 6, (3, 5): 3, (4, 1): 5, (4, 2): 5, (4, 3): 5, (4, 4): 6, (4, 5): 2, (5, 1): 4, (5, 2): 3, (5, 3): 3, (5, 4): 4, (5, 5): 3, (6, 1): 2, (6, 2): 4, (6, 3): 5, (6, 4): 3, (6, 5): 4, (7, 1): 3, (7, 2): 4, (7, 3): 1, (7, 4): 4, (7, 5): 4, (8, 1): 3, (8, 2): 4, (8, 3): 3, (8, 4): 2, (8, 5): 1}"
   ]
  },
  {
   "cell_type": "code",
   "execution_count": 18,
   "id": "33760ebb-57d3-4747-83a3-a2cb9355d430",
   "metadata": {},
   "outputs": [],
   "source": [
    "# creating additional variable a\n",
    "a ={}\n",
    "for key in d:\n",
    "    if d[key]<=s:\n",
    "        a[key]=1\n",
    "    else:\n",
    "        a[key]=0"
   ]
  },
  {
   "cell_type": "code",
   "execution_count": 19,
   "id": "cf2895e4-575c-499d-ab61-832d087a736b",
   "metadata": {},
   "outputs": [
    {
     "data": {
      "text/plain": [
       "{(1, 1): 0,\n",
       " (1, 2): 0,\n",
       " (1, 3): 1,\n",
       " (1, 4): 1,\n",
       " (1, 5): 0,\n",
       " (2, 1): 1,\n",
       " (2, 2): 0,\n",
       " (2, 3): 0,\n",
       " (2, 4): 0,\n",
       " (2, 5): 1,\n",
       " (3, 1): 0,\n",
       " (3, 2): 1,\n",
       " (3, 3): 0,\n",
       " (3, 4): 0,\n",
       " (3, 5): 1,\n",
       " (4, 1): 0,\n",
       " (4, 2): 0,\n",
       " (4, 3): 0,\n",
       " (4, 4): 0,\n",
       " (4, 5): 1,\n",
       " (5, 1): 0,\n",
       " (5, 2): 1,\n",
       " (5, 3): 1,\n",
       " (5, 4): 0,\n",
       " (5, 5): 1,\n",
       " (6, 1): 1,\n",
       " (6, 2): 0,\n",
       " (6, 3): 0,\n",
       " (6, 4): 1,\n",
       " (6, 5): 0,\n",
       " (7, 1): 1,\n",
       " (7, 2): 0,\n",
       " (7, 3): 1,\n",
       " (7, 4): 0,\n",
       " (7, 5): 0,\n",
       " (8, 1): 1,\n",
       " (8, 2): 0,\n",
       " (8, 3): 1,\n",
       " (8, 4): 1,\n",
       " (8, 5): 1}"
      ]
     },
     "execution_count": 19,
     "metadata": {},
     "output_type": "execute_result"
    }
   ],
   "source": [
    "a"
   ]
  },
  {
   "cell_type": "code",
   "execution_count": 20,
   "id": "8802857c-d20b-401f-a412-f2a14cccbff6",
   "metadata": {},
   "outputs": [],
   "source": [
    "# creating main variable\n",
    "x = pulp.LpVariable.dicts('x',[j for j in range (1,6)],lowBound=0,cat='Binary')"
   ]
  },
  {
   "cell_type": "code",
   "execution_count": 21,
   "id": "a8de9657-4cdf-4f4f-92a8-925e6204cf52",
   "metadata": {},
   "outputs": [],
   "source": [
    "# creating model\n",
    "model = LpProblem('minimization_problem', sense = LpMinimize)"
   ]
  },
  {
   "cell_type": "code",
   "execution_count": 22,
   "id": "f40a6d43-fe95-4fea-b82c-dce36d3b9305",
   "metadata": {},
   "outputs": [
    {
     "data": {
      "text/plain": [
       "{1: x_1, 2: x_2, 3: x_3, 4: x_4, 5: x_5}"
      ]
     },
     "execution_count": 22,
     "metadata": {},
     "output_type": "execute_result"
    }
   ],
   "source": [
    "x"
   ]
  },
  {
   "cell_type": "code",
   "execution_count": 23,
   "id": "77e5d14a-e195-4424-8be6-8bf3b53101dc",
   "metadata": {},
   "outputs": [],
   "source": [
    "# creating objective function\n",
    "result={}\n",
    "for u in x:\n",
    "    result+=x[u]\n",
    "\n",
    "objective = lpSum(result)\n",
    "objective\n",
    "model+=objective"
   ]
  },
  {
   "cell_type": "code",
   "execution_count": 24,
   "id": "e0fca822-4a93-4887-9fe3-262082a04003",
   "metadata": {},
   "outputs": [],
   "source": [
    "# creating constraints\n",
    "result1 ={}\n",
    "for k,l in a:\n",
    "    for u in x:\n",
    "        if(l==u):\n",
    "            result1+=(x[u]*a[k,l])\n",
    "            if (l==5):\n",
    "                model+= lpSum(result1)>=1\n",
    "                result1={}"
   ]
  },
  {
   "cell_type": "code",
   "execution_count": 25,
   "id": "0f52a368-ee27-4b1c-8fd6-cb61572aa6e1",
   "metadata": {},
   "outputs": [
    {
     "data": {
      "text/plain": [
       "minimization_problem:\n",
       "MINIMIZE\n",
       "1*x_1 + 1*x_2 + 1*x_3 + 1*x_4 + 1*x_5 + 0\n",
       "SUBJECT TO\n",
       "_C1: x_3 + x_4 >= 1\n",
       "\n",
       "_C2: x_1 + x_5 >= 1\n",
       "\n",
       "_C3: x_2 + x_5 >= 1\n",
       "\n",
       "_C4: x_5 >= 1\n",
       "\n",
       "_C5: x_2 + x_3 + x_5 >= 1\n",
       "\n",
       "_C6: x_1 + x_4 >= 1\n",
       "\n",
       "_C7: x_1 + x_3 >= 1\n",
       "\n",
       "_C8: x_1 + x_3 + x_4 + x_5 >= 1\n",
       "\n",
       "VARIABLES\n",
       "0 <= x_1 <= 1 Integer\n",
       "0 <= x_2 <= 1 Integer\n",
       "0 <= x_3 <= 1 Integer\n",
       "0 <= x_4 <= 1 Integer\n",
       "0 <= x_5 <= 1 Integer"
      ]
     },
     "execution_count": 25,
     "metadata": {},
     "output_type": "execute_result"
    }
   ],
   "source": [
    "model"
   ]
  },
  {
   "cell_type": "code",
   "execution_count": 26,
   "id": "54508837-7dc4-4a37-9ffc-5b69d581b5cf",
   "metadata": {},
   "outputs": [
    {
     "data": {
      "text/plain": [
       "1"
      ]
     },
     "execution_count": 26,
     "metadata": {},
     "output_type": "execute_result"
    }
   ],
   "source": [
    "# solving\n",
    "model.solve()"
   ]
  },
  {
   "cell_type": "code",
   "execution_count": 27,
   "id": "1e5b8699-057b-44c0-971d-10a1ed1c4b5d",
   "metadata": {},
   "outputs": [
    {
     "name": "stdout",
     "output_type": "stream",
     "text": [
      "Total no. of locations =  3.0\n"
     ]
    }
   ],
   "source": [
    "print('Total no. of locations = ',model.objective.value())"
   ]
  },
  {
   "cell_type": "code",
   "execution_count": 28,
   "id": "c9496746-dc09-409c-908a-18b264dcdeb0",
   "metadata": {},
   "outputs": [
    {
     "name": "stdout",
     "output_type": "stream",
     "text": [
      "1.0\n",
      "0.0\n",
      "0.0\n",
      "1.0\n",
      "1.0\n"
     ]
    }
   ],
   "source": [
    "for u in x:\n",
    "    print(x[u].varValue)"
   ]
  },
  {
   "cell_type": "markdown",
   "id": "08f9f4df-08ac-45f6-a98c-8997397490c0",
   "metadata": {},
   "source": [
    "# Maximum covering problem\n",
    "Consider a set of demands i and a set of warehouse locations j, the distance between demand i and location j is $d_{ij}$ >0 where $i \\in I$ and $j \\in J$. \n",
    "A service level s >0, covering coefficient $a_{ij}$ is given (such that if a location j is able to cover demand i, then $a_{ij}$ = 1 otherwise $a_{ij}$ =0.) and demand i is said to be satisfied by location j only $d_{ij}$ < s. We are restricted to building at most 2 warehouse locations, how to allocate 2 facilities to cover as many demand centers?"
   ]
  },
  {
   "cell_type": "markdown",
   "id": "baf08242-0570-4b06-b6e7-09c692704802",
   "metadata": {},
   "source": [
    "#### Answer\n",
    "\n",
    "##### choosing variables\n",
    "Let us assume a variable $y_{i}$ such that if a any location j is able to cover demand i, then $y_{i}$ = 1 otherwise $y_{i}$ =0.\n",
    "\\\n",
    "Let $x_{j}$ = 1 if a warehouse is built in location j or 0 otherwise.\n"
   ]
  },
  {
   "cell_type": "markdown",
   "id": "9b718286-1b6b-4f03-8a04-54cfe6eb9111",
   "metadata": {},
   "source": [
    "##### objective function\n",
    "\n",
    "$Max \\sum(y_{i})$ for $i \\in I$\n",
    "\n",
    "##### constraints\n",
    "- $\\sum_j (a_{ij} * x_{j})$ >=$ y_{i}$ for $i \\in I$, $j \\in J$, $x_{j} \\in {1,0}$, $y_{i} \\in {1,0}$"
   ]
  },
  {
   "cell_type": "code",
   "execution_count": 54,
   "id": "9fede3b8-fcca-4f0a-b470-e65d1d4f85ff",
   "metadata": {},
   "outputs": [],
   "source": [
    "# using same I,J,s and d"
   ]
  },
  {
   "cell_type": "code",
   "execution_count": 29,
   "id": "7de4c03e-92ed-47bd-8cfd-3d206abbd03d",
   "metadata": {},
   "outputs": [],
   "source": [
    "# creating additional variable a\n",
    "a ={}\n",
    "for key in d:\n",
    "    if d[key]<=s:\n",
    "        a[key]=1\n",
    "    else:\n",
    "        a[key]=0"
   ]
  },
  {
   "cell_type": "code",
   "execution_count": 30,
   "id": "adbdd143-eb4c-4da4-bb27-b386ce6c1b25",
   "metadata": {},
   "outputs": [
    {
     "data": {
      "text/plain": [
       "{(1, 1): 0,\n",
       " (1, 2): 0,\n",
       " (1, 3): 1,\n",
       " (1, 4): 1,\n",
       " (1, 5): 0,\n",
       " (2, 1): 1,\n",
       " (2, 2): 0,\n",
       " (2, 3): 0,\n",
       " (2, 4): 0,\n",
       " (2, 5): 1,\n",
       " (3, 1): 0,\n",
       " (3, 2): 1,\n",
       " (3, 3): 0,\n",
       " (3, 4): 0,\n",
       " (3, 5): 1,\n",
       " (4, 1): 0,\n",
       " (4, 2): 0,\n",
       " (4, 3): 0,\n",
       " (4, 4): 0,\n",
       " (4, 5): 1,\n",
       " (5, 1): 0,\n",
       " (5, 2): 1,\n",
       " (5, 3): 1,\n",
       " (5, 4): 0,\n",
       " (5, 5): 1,\n",
       " (6, 1): 1,\n",
       " (6, 2): 0,\n",
       " (6, 3): 0,\n",
       " (6, 4): 1,\n",
       " (6, 5): 0,\n",
       " (7, 1): 1,\n",
       " (7, 2): 0,\n",
       " (7, 3): 1,\n",
       " (7, 4): 0,\n",
       " (7, 5): 0,\n",
       " (8, 1): 1,\n",
       " (8, 2): 0,\n",
       " (8, 3): 1,\n",
       " (8, 4): 1,\n",
       " (8, 5): 1}"
      ]
     },
     "execution_count": 30,
     "metadata": {},
     "output_type": "execute_result"
    }
   ],
   "source": [
    "a"
   ]
  },
  {
   "cell_type": "code",
   "execution_count": 31,
   "id": "a7e90c2f-2bdc-4aab-a19d-a0dbde8d02ed",
   "metadata": {},
   "outputs": [],
   "source": [
    "# creating main variable\n",
    "x = pulp.LpVariable.dicts('x',[j for j in range (1,6)],lowBound=0,cat='Binary')\n",
    "y = pulp.LpVariable.dicts('y',[i for i in range (1,9)],lowBound=0,cat='Binary')"
   ]
  },
  {
   "cell_type": "code",
   "execution_count": 32,
   "id": "17973845-b010-4bdd-a33b-a8c5da8824f6",
   "metadata": {},
   "outputs": [],
   "source": [
    "# creating model\n",
    "model_1 = LpProblem('maximization_problem', sense = LpMaximize)"
   ]
  },
  {
   "cell_type": "code",
   "execution_count": 33,
   "id": "938b7398-2a13-4836-b830-3c2ad347313e",
   "metadata": {},
   "outputs": [],
   "source": [
    "# creating objective function\n",
    "result={}\n",
    "for u in y:\n",
    "    result+=y[u]\n",
    "\n",
    "objective_1 = lpSum(result)\n",
    "objective_1\n",
    "model_1+=objective_1"
   ]
  },
  {
   "cell_type": "raw",
   "id": "7c609f21-7982-4112-881f-193e0da1990c",
   "metadata": {},
   "source": [
    "# imagining constraints\n",
    "result2 ={}\n",
    "for k,l in a:\n",
    "    for u in x:\n",
    "        if(l==u):\n",
    "            result2+=x[u]*a[k,l]\n",
    "            if(l==5):\n",
    "                print(result2,'>=',y[k])\n",
    "                result2={}"
   ]
  },
  {
   "cell_type": "code",
   "execution_count": 36,
   "id": "675b3989-61b6-4a76-b3c2-5a6de3011fa7",
   "metadata": {},
   "outputs": [],
   "source": [
    "# creating constraints\n",
    "#1st constraint\n",
    "result2 ={}\n",
    "for k,l in a:\n",
    "    for u in x:\n",
    "        if(l==u):\n",
    "            result2+=x[u]*a[k,l]\n",
    "            if(l==5):\n",
    "                model_1+=lpSum(result2)>=y[k]\n",
    "                result2={}\n",
    "\n",
    "#2nd constraint\n",
    "result3={}\n",
    "for u in x:\n",
    "    result3+=x[u]\n",
    "\n",
    "model_1+=lpSum(result3)<=2"
   ]
  },
  {
   "cell_type": "code",
   "execution_count": 37,
   "id": "9b86ed81-5578-476d-b81c-07355c8c0911",
   "metadata": {},
   "outputs": [
    {
     "data": {
      "text/plain": [
       "maximization_problem:\n",
       "MAXIMIZE\n",
       "1*y_1 + 1*y_2 + 1*y_3 + 1*y_4 + 1*y_5 + 1*y_6 + 1*y_7 + 1*y_8 + 0\n",
       "SUBJECT TO\n",
       "_C1: x_3 + x_4 - y_1 >= 0\n",
       "\n",
       "_C2: x_1 + x_5 - y_2 >= 0\n",
       "\n",
       "_C3: x_2 + x_5 - y_3 >= 0\n",
       "\n",
       "_C4: x_5 - y_4 >= 0\n",
       "\n",
       "_C5: x_2 + x_3 + x_5 - y_5 >= 0\n",
       "\n",
       "_C6: x_1 + x_4 - y_6 >= 0\n",
       "\n",
       "_C7: x_1 + x_3 - y_7 >= 0\n",
       "\n",
       "_C8: x_1 + x_3 + x_4 + x_5 - y_8 >= 0\n",
       "\n",
       "_C9: x_1 + x_2 + x_3 + x_4 + x_5 <= 2\n",
       "\n",
       "VARIABLES\n",
       "0 <= x_1 <= 1 Integer\n",
       "0 <= x_2 <= 1 Integer\n",
       "0 <= x_3 <= 1 Integer\n",
       "0 <= x_4 <= 1 Integer\n",
       "0 <= x_5 <= 1 Integer\n",
       "0 <= y_1 <= 1 Integer\n",
       "0 <= y_2 <= 1 Integer\n",
       "0 <= y_3 <= 1 Integer\n",
       "0 <= y_4 <= 1 Integer\n",
       "0 <= y_5 <= 1 Integer\n",
       "0 <= y_6 <= 1 Integer\n",
       "0 <= y_7 <= 1 Integer\n",
       "0 <= y_8 <= 1 Integer"
      ]
     },
     "execution_count": 37,
     "metadata": {},
     "output_type": "execute_result"
    }
   ],
   "source": [
    "model_1"
   ]
  },
  {
   "cell_type": "code",
   "execution_count": 38,
   "id": "d33c716d-e09a-4ca8-9f76-ca431495a4ac",
   "metadata": {},
   "outputs": [
    {
     "data": {
      "text/plain": [
       "1"
      ]
     },
     "execution_count": 38,
     "metadata": {},
     "output_type": "execute_result"
    }
   ],
   "source": [
    "# solving\n",
    "model_1.solve()"
   ]
  },
  {
   "cell_type": "code",
   "execution_count": 42,
   "id": "178e210d-89b5-4daa-9f4e-f8591c138a4f",
   "metadata": {},
   "outputs": [
    {
     "name": "stdout",
     "output_type": "stream",
     "text": [
      "Total no. of demands covered =  7.0\n"
     ]
    }
   ],
   "source": [
    "print('Total no. of demands covered = ',model_1.objective.value())"
   ]
  },
  {
   "cell_type": "code",
   "execution_count": 52,
   "id": "f9969959-2758-4bdc-81eb-3693edb29000",
   "metadata": {},
   "outputs": [
    {
     "name": "stdout",
     "output_type": "stream",
     "text": [
      " warehouse at location 3 to be built\n",
      " warehouse at location 5 to be built\n"
     ]
    }
   ],
   "source": [
    "for u in x:\n",
    "    if(x[u].varValue==1):\n",
    "        print(f' warehouse at location {u} to be built')\n",
    "    "
   ]
  }
 ],
 "metadata": {
  "kernelspec": {
   "display_name": "Python 3 (ipykernel)",
   "language": "python",
   "name": "python3"
  },
  "language_info": {
   "codemirror_mode": {
    "name": "ipython",
    "version": 3
   },
   "file_extension": ".py",
   "mimetype": "text/x-python",
   "name": "python",
   "nbconvert_exporter": "python",
   "pygments_lexer": "ipython3",
   "version": "3.12.0"
  }
 },
 "nbformat": 4,
 "nbformat_minor": 5
}
