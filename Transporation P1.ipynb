{
 "cells": [
  {
   "cell_type": "markdown",
   "id": "529a1925-27cb-4a52-99db-02c688de5e48",
   "metadata": {},
   "source": [
    "# Transportation Problem\n",
    "Consider a trucking company A that is providing services in 26 different routes. Each routes has impact (net profit/loss in terms of dollars of running a truck on that route), minimum and maximum volume constraints that trucks can handel in those routes.The trucking company also has a limit on how many miles the trucks could cover in a week due to a finite amount of trucks ( more than 20000 miles but less than 22000 miles ). The goal is to optimally select which lanes to run and at what volumes to maximize equipment utilization and financial impact."
   ]
  },
  {
   "cell_type": "code",
   "execution_count": 3,
   "id": "51afc833-7251-4de5-9c1b-13d295b02e97",
   "metadata": {},
   "outputs": [
    {
     "name": "stdout",
     "output_type": "stream",
     "text": [
      "Collecting pandas\n",
      "  Obtaining dependency information for pandas from https://files.pythonhosted.org/packages/df/92/a3fa053c74198f9f0224b2c04dc74f41d2e14e30329c082f7a657f9ca4c5/pandas-2.1.3-cp312-cp312-win_amd64.whl.metadata\n",
      "  Downloading pandas-2.1.3-cp312-cp312-win_amd64.whl.metadata (18 kB)\n",
      "Requirement already satisfied: numpy<2,>=1.26.0 in c:\\users\\user\\appdata\\local\\programs\\python\\python312\\lib\\site-packages (from pandas) (1.26.0)\n",
      "Requirement already satisfied: python-dateutil>=2.8.2 in c:\\users\\user\\appdata\\local\\programs\\python\\python312\\lib\\site-packages (from pandas) (2.8.2)\n",
      "Collecting pytz>=2020.1 (from pandas)\n",
      "  Obtaining dependency information for pytz>=2020.1 from https://files.pythonhosted.org/packages/32/4d/aaf7eff5deb402fd9a24a1449a8119f00d74ae9c2efa79f8ef9994261fc2/pytz-2023.3.post1-py2.py3-none-any.whl.metadata\n",
      "  Downloading pytz-2023.3.post1-py2.py3-none-any.whl.metadata (22 kB)\n",
      "Collecting tzdata>=2022.1 (from pandas)\n",
      "  Downloading tzdata-2023.3-py2.py3-none-any.whl (341 kB)\n",
      "     ---------------------------------------- 0.0/341.8 kB ? eta -:--:--\n",
      "     ---------------------- ----------------- 194.6/341.8 kB ? eta -:--:--\n",
      "     -------------------------------------- 341.8/341.8 kB 5.3 MB/s eta 0:00:00\n",
      "Requirement already satisfied: six>=1.5 in c:\\users\\user\\appdata\\local\\programs\\python\\python312\\lib\\site-packages (from python-dateutil>=2.8.2->pandas) (1.16.0)\n",
      "Downloading pandas-2.1.3-cp312-cp312-win_amd64.whl (10.5 MB)\n",
      "   ---------------------------------------- 0.0/10.5 MB ? eta -:--:--\n",
      "    --------------------------------------- 0.3/10.5 MB 5.2 MB/s eta 0:00:02\n",
      "   -- ------------------------------------- 0.6/10.5 MB 7.4 MB/s eta 0:00:02\n",
      "   ---- ----------------------------------- 1.3/10.5 MB 8.9 MB/s eta 0:00:02\n",
      "   -------- ------------------------------- 2.3/10.5 MB 13.2 MB/s eta 0:00:01\n",
      "   --------- ------------------------------ 2.4/10.5 MB 11.9 MB/s eta 0:00:01\n",
      "   ----------- ---------------------------- 2.9/10.5 MB 11.0 MB/s eta 0:00:01\n",
      "   ------------------ --------------------- 4.8/10.5 MB 15.2 MB/s eta 0:00:01\n",
      "   -------------------- ------------------- 5.5/10.5 MB 15.1 MB/s eta 0:00:01\n",
      "   ------------------------- -------------- 6.6/10.5 MB 16.3 MB/s eta 0:00:01\n",
      "   ---------------------------- ----------- 7.5/10.5 MB 16.5 MB/s eta 0:00:01\n",
      "   ------------------------------- -------- 8.3/10.5 MB 16.5 MB/s eta 0:00:01\n",
      "   ---------------------------------- ----- 9.1/10.5 MB 16.7 MB/s eta 0:00:01\n",
      "   ------------------------------------- -- 9.9/10.5 MB 16.7 MB/s eta 0:00:01\n",
      "   ---------------------------------------  10.5/10.5 MB 17.7 MB/s eta 0:00:01\n",
      "   ---------------------------------------  10.5/10.5 MB 17.7 MB/s eta 0:00:01\n",
      "   ---------------------------------------- 10.5/10.5 MB 15.6 MB/s eta 0:00:00\n",
      "Downloading pytz-2023.3.post1-py2.py3-none-any.whl (502 kB)\n",
      "   ---------------------------------------- 0.0/502.5 kB ? eta -:--:--\n",
      "   --------------------------------------- 502.5/502.5 kB 30.8 MB/s eta 0:00:00\n",
      "Installing collected packages: pytz, tzdata, pandas\n",
      "Successfully installed pandas-2.1.3 pytz-2023.3.post1 tzdata-2023.3\n"
     ]
    },
    {
     "name": "stderr",
     "output_type": "stream",
     "text": [
      "\n",
      "[notice] A new release of pip is available: 23.2.1 -> 23.3.1\n",
      "[notice] To update, run: python.exe -m pip install --upgrade pip\n"
     ]
    }
   ],
   "source": [
    "# install pandas\n",
    "!pip install pandas"
   ]
  },
  {
   "cell_type": "code",
   "execution_count": 12,
   "id": "9831536f-d0d7-4ec9-bf99-d817b086f200",
   "metadata": {},
   "outputs": [
    {
     "name": "stdout",
     "output_type": "stream",
     "text": [
      "Collecting openpyxl\n",
      "  Downloading openpyxl-3.1.2-py2.py3-none-any.whl (249 kB)\n",
      "     ---------------------------------------- 0.0/250.0 kB ? eta -:--:--\n",
      "     - -------------------------------------- 10.2/250.0 kB ? eta -:--:--\n",
      "     --------- --------------------------- 61.4/250.0 kB 656.4 kB/s eta 0:00:01\n",
      "     -------------------------- ----------- 174.1/250.0 kB 1.3 MB/s eta 0:00:01\n",
      "     -------------------------------------- 250.0/250.0 kB 1.5 MB/s eta 0:00:00\n",
      "Collecting et-xmlfile (from openpyxl)\n",
      "  Downloading et_xmlfile-1.1.0-py3-none-any.whl (4.7 kB)\n",
      "Installing collected packages: et-xmlfile, openpyxl\n",
      "Successfully installed et-xmlfile-1.1.0 openpyxl-3.1.2\n"
     ]
    },
    {
     "name": "stderr",
     "output_type": "stream",
     "text": [
      "\n",
      "[notice] A new release of pip is available: 23.2.1 -> 23.3.1\n",
      "[notice] To update, run: python.exe -m pip install --upgrade pip\n"
     ]
    }
   ],
   "source": [
    "!pip install openpyxl"
   ]
  },
  {
   "cell_type": "code",
   "execution_count": 5,
   "id": "741b9991-d36d-4a6d-96d8-bd4c8206a303",
   "metadata": {},
   "outputs": [],
   "source": [
    "# import pandas and pulp\n",
    "import pandas as pd\n",
    "import pulp\n",
    "from pulp import *"
   ]
  },
  {
   "cell_type": "code",
   "execution_count": 13,
   "id": "5bdfd6ad-875d-485d-8d5e-ce78b16281ae",
   "metadata": {},
   "outputs": [],
   "source": [
    "#Import the data, set the laneId as the Index\n",
    "data = pd.read_excel('C:/Users/User/OneDrive/Documents/OR PROJECTS/SampleData.xlsx')"
   ]
  },
  {
   "cell_type": "code",
   "execution_count": 14,
   "id": "80c72345-7b0e-4764-a416-7bf81c6f6e18",
   "metadata": {},
   "outputs": [
    {
     "data": {
      "text/html": [
       "<div>\n",
       "<style scoped>\n",
       "    .dataframe tbody tr th:only-of-type {\n",
       "        vertical-align: middle;\n",
       "    }\n",
       "\n",
       "    .dataframe tbody tr th {\n",
       "        vertical-align: top;\n",
       "    }\n",
       "\n",
       "    .dataframe thead th {\n",
       "        text-align: right;\n",
       "    }\n",
       "</style>\n",
       "<table border=\"1\" class=\"dataframe\">\n",
       "  <thead>\n",
       "    <tr style=\"text-align: right;\">\n",
       "      <th></th>\n",
       "      <th>LaneId</th>\n",
       "      <th>Distance</th>\n",
       "      <th>ImpactPer</th>\n",
       "      <th>MinVol</th>\n",
       "      <th>MaxVol</th>\n",
       "    </tr>\n",
       "  </thead>\n",
       "  <tbody>\n",
       "    <tr>\n",
       "      <th>0</th>\n",
       "      <td>0</td>\n",
       "      <td>570</td>\n",
       "      <td>349.50</td>\n",
       "      <td>2</td>\n",
       "      <td>6</td>\n",
       "    </tr>\n",
       "    <tr>\n",
       "      <th>1</th>\n",
       "      <td>1</td>\n",
       "      <td>117</td>\n",
       "      <td>109.42</td>\n",
       "      <td>0</td>\n",
       "      <td>3</td>\n",
       "    </tr>\n",
       "    <tr>\n",
       "      <th>2</th>\n",
       "      <td>2</td>\n",
       "      <td>120</td>\n",
       "      <td>0.45</td>\n",
       "      <td>15</td>\n",
       "      <td>25</td>\n",
       "    </tr>\n",
       "    <tr>\n",
       "      <th>3</th>\n",
       "      <td>3</td>\n",
       "      <td>1116</td>\n",
       "      <td>-915.59</td>\n",
       "      <td>0</td>\n",
       "      <td>0</td>\n",
       "    </tr>\n",
       "    <tr>\n",
       "      <th>4</th>\n",
       "      <td>4</td>\n",
       "      <td>1058</td>\n",
       "      <td>-1000.56</td>\n",
       "      <td>0</td>\n",
       "      <td>0</td>\n",
       "    </tr>\n",
       "    <tr>\n",
       "      <th>5</th>\n",
       "      <td>5</td>\n",
       "      <td>942</td>\n",
       "      <td>-550.68</td>\n",
       "      <td>0</td>\n",
       "      <td>0</td>\n",
       "    </tr>\n",
       "    <tr>\n",
       "      <th>6</th>\n",
       "      <td>6</td>\n",
       "      <td>1103</td>\n",
       "      <td>-960.45</td>\n",
       "      <td>0</td>\n",
       "      <td>0</td>\n",
       "    </tr>\n",
       "    <tr>\n",
       "      <th>7</th>\n",
       "      <td>7</td>\n",
       "      <td>921</td>\n",
       "      <td>-787.00</td>\n",
       "      <td>0</td>\n",
       "      <td>2</td>\n",
       "    </tr>\n",
       "    <tr>\n",
       "      <th>8</th>\n",
       "      <td>8</td>\n",
       "      <td>1091</td>\n",
       "      <td>-927.75</td>\n",
       "      <td>0</td>\n",
       "      <td>0</td>\n",
       "    </tr>\n",
       "    <tr>\n",
       "      <th>9</th>\n",
       "      <td>9</td>\n",
       "      <td>443</td>\n",
       "      <td>82.08</td>\n",
       "      <td>3</td>\n",
       "      <td>8</td>\n",
       "    </tr>\n",
       "    <tr>\n",
       "      <th>10</th>\n",
       "      <td>10</td>\n",
       "      <td>1688</td>\n",
       "      <td>-889.49</td>\n",
       "      <td>0</td>\n",
       "      <td>0</td>\n",
       "    </tr>\n",
       "    <tr>\n",
       "      <th>11</th>\n",
       "      <td>11</td>\n",
       "      <td>432</td>\n",
       "      <td>-265.28</td>\n",
       "      <td>2</td>\n",
       "      <td>4</td>\n",
       "    </tr>\n",
       "    <tr>\n",
       "      <th>12</th>\n",
       "      <td>12</td>\n",
       "      <td>451</td>\n",
       "      <td>-81.15</td>\n",
       "      <td>8</td>\n",
       "      <td>10</td>\n",
       "    </tr>\n",
       "    <tr>\n",
       "      <th>13</th>\n",
       "      <td>13</td>\n",
       "      <td>505</td>\n",
       "      <td>-545.46</td>\n",
       "      <td>0</td>\n",
       "      <td>0</td>\n",
       "    </tr>\n",
       "    <tr>\n",
       "      <th>14</th>\n",
       "      <td>14</td>\n",
       "      <td>444</td>\n",
       "      <td>-50.00</td>\n",
       "      <td>0</td>\n",
       "      <td>0</td>\n",
       "    </tr>\n",
       "    <tr>\n",
       "      <th>15</th>\n",
       "      <td>15</td>\n",
       "      <td>1247</td>\n",
       "      <td>-878.54</td>\n",
       "      <td>0</td>\n",
       "      <td>0</td>\n",
       "    </tr>\n",
       "    <tr>\n",
       "      <th>16</th>\n",
       "      <td>16</td>\n",
       "      <td>710</td>\n",
       "      <td>-837.95</td>\n",
       "      <td>0</td>\n",
       "      <td>2</td>\n",
       "    </tr>\n",
       "    <tr>\n",
       "      <th>17</th>\n",
       "      <td>17</td>\n",
       "      <td>323</td>\n",
       "      <td>-379.91</td>\n",
       "      <td>0</td>\n",
       "      <td>1</td>\n",
       "    </tr>\n",
       "    <tr>\n",
       "      <th>18</th>\n",
       "      <td>18</td>\n",
       "      <td>1035</td>\n",
       "      <td>-508.73</td>\n",
       "      <td>1</td>\n",
       "      <td>2</td>\n",
       "    </tr>\n",
       "    <tr>\n",
       "      <th>19</th>\n",
       "      <td>19</td>\n",
       "      <td>1139</td>\n",
       "      <td>-946.08</td>\n",
       "      <td>0</td>\n",
       "      <td>0</td>\n",
       "    </tr>\n",
       "    <tr>\n",
       "      <th>20</th>\n",
       "      <td>20</td>\n",
       "      <td>1136</td>\n",
       "      <td>-535.74</td>\n",
       "      <td>0</td>\n",
       "      <td>1</td>\n",
       "    </tr>\n",
       "    <tr>\n",
       "      <th>21</th>\n",
       "      <td>21</td>\n",
       "      <td>1251</td>\n",
       "      <td>512.79</td>\n",
       "      <td>6</td>\n",
       "      <td>6</td>\n",
       "    </tr>\n",
       "    <tr>\n",
       "      <th>22</th>\n",
       "      <td>22</td>\n",
       "      <td>1107</td>\n",
       "      <td>-952.41</td>\n",
       "      <td>0</td>\n",
       "      <td>0</td>\n",
       "    </tr>\n",
       "    <tr>\n",
       "      <th>23</th>\n",
       "      <td>23</td>\n",
       "      <td>1180</td>\n",
       "      <td>-1045.29</td>\n",
       "      <td>0</td>\n",
       "      <td>4</td>\n",
       "    </tr>\n",
       "    <tr>\n",
       "      <th>24</th>\n",
       "      <td>24</td>\n",
       "      <td>268</td>\n",
       "      <td>107.72</td>\n",
       "      <td>4</td>\n",
       "      <td>4</td>\n",
       "    </tr>\n",
       "    <tr>\n",
       "      <th>25</th>\n",
       "      <td>25</td>\n",
       "      <td>863</td>\n",
       "      <td>-47.50</td>\n",
       "      <td>0</td>\n",
       "      <td>1</td>\n",
       "    </tr>\n",
       "  </tbody>\n",
       "</table>\n",
       "</div>"
      ],
      "text/plain": [
       "    LaneId  Distance  ImpactPer  MinVol  MaxVol\n",
       "0        0       570     349.50       2       6\n",
       "1        1       117     109.42       0       3\n",
       "2        2       120       0.45      15      25\n",
       "3        3      1116    -915.59       0       0\n",
       "4        4      1058   -1000.56       0       0\n",
       "5        5       942    -550.68       0       0\n",
       "6        6      1103    -960.45       0       0\n",
       "7        7       921    -787.00       0       2\n",
       "8        8      1091    -927.75       0       0\n",
       "9        9       443      82.08       3       8\n",
       "10      10      1688    -889.49       0       0\n",
       "11      11       432    -265.28       2       4\n",
       "12      12       451     -81.15       8      10\n",
       "13      13       505    -545.46       0       0\n",
       "14      14       444     -50.00       0       0\n",
       "15      15      1247    -878.54       0       0\n",
       "16      16       710    -837.95       0       2\n",
       "17      17       323    -379.91       0       1\n",
       "18      18      1035    -508.73       1       2\n",
       "19      19      1139    -946.08       0       0\n",
       "20      20      1136    -535.74       0       1\n",
       "21      21      1251     512.79       6       6\n",
       "22      22      1107    -952.41       0       0\n",
       "23      23      1180   -1045.29       0       4\n",
       "24      24       268     107.72       4       4\n",
       "25      25       863     -47.50       0       1"
      ]
     },
     "execution_count": 14,
     "metadata": {},
     "output_type": "execute_result"
    }
   ],
   "source": [
    "data"
   ]
  },
  {
   "cell_type": "code",
   "execution_count": 1,
   "id": "f9a9ea28-9393-4c18-83a1-eaf51dd75549",
   "metadata": {},
   "outputs": [],
   "source": [
    "# setting limits on distance covered by trucks\n",
    "lower_limit = 20000\n",
    "upper_limit = 22000"
   ]
  },
  {
   "cell_type": "code",
   "execution_count": 21,
   "id": "196eaec3-11d9-424e-82be-41b5844faa94",
   "metadata": {},
   "outputs": [],
   "source": [
    "# Creating Lp model\n",
    "model = pulp.LpProblem('RouteOptimization', LpMaximize)\n",
    " \n",
    "# Getting values for lanes, max-min volume, cost-impact and distance\n",
    "Lanes = data.index\n",
    "MaxVols = data['MaxVol']\n",
    "MinVols = data['MinVol']\n",
    "Impacts = data['ImpactPer']\n",
    "Miles = data['Distance']\n",
    "\n",
    "# creating variables\n",
    "x = LpVariable.dicts('Lane', Lanes,cat= LpInteger)\n",
    " \n",
    "for l in Lanes:\n",
    " x[l].bounds(MinVols[l], MaxVols[l])\n"
   ]
  },
  {
   "cell_type": "code",
   "execution_count": 17,
   "id": "e5aba8ad-4e19-4e15-b650-4a15b2b56fbc",
   "metadata": {},
   "outputs": [
    {
     "data": {
      "text/plain": [
       "{0: Lane_0,\n",
       " 1: Lane_1,\n",
       " 2: Lane_2,\n",
       " 3: Lane_3,\n",
       " 4: Lane_4,\n",
       " 5: Lane_5,\n",
       " 6: Lane_6,\n",
       " 7: Lane_7,\n",
       " 8: Lane_8,\n",
       " 9: Lane_9,\n",
       " 10: Lane_10,\n",
       " 11: Lane_11,\n",
       " 12: Lane_12,\n",
       " 13: Lane_13,\n",
       " 14: Lane_14,\n",
       " 15: Lane_15,\n",
       " 16: Lane_16,\n",
       " 17: Lane_17,\n",
       " 18: Lane_18,\n",
       " 19: Lane_19,\n",
       " 20: Lane_20,\n",
       " 21: Lane_21,\n",
       " 22: Lane_22,\n",
       " 23: Lane_23,\n",
       " 24: Lane_24,\n",
       " 25: Lane_25}"
      ]
     },
     "execution_count": 17,
     "metadata": {},
     "output_type": "execute_result"
    }
   ],
   "source": [
    "x"
   ]
  },
  {
   "cell_type": "code",
   "execution_count": 23,
   "id": "ce050381-72ff-467b-ae81-42923190f1d9",
   "metadata": {},
   "outputs": [
    {
     "name": "stderr",
     "output_type": "stream",
     "text": [
      "C:\\Users\\User\\AppData\\Local\\Programs\\Python\\Python312\\Lib\\site-packages\\pulp\\pulp.py:1704: UserWarning: Overwriting previously set objective.\n",
      "  warnings.warn(\"Overwriting previously set objective.\")\n"
     ]
    }
   ],
   "source": [
    "# Creating objective function\n",
    "\n",
    "model += sum([x[l] * Impacts[l] for l in Lanes])\n",
    "\n",
    "# Creating constraints\n",
    "prob += lpSum([Miles[l] * x[l] for l in Lanes]) <= upper_limit\n",
    "prob += lpSum([Miles[l] * x[l] for l in Lanes]) >= lower_limit"
   ]
  },
  {
   "cell_type": "code",
   "execution_count": 24,
   "id": "dc3f0b2f-c341-49b7-8926-804cbb78ed56",
   "metadata": {},
   "outputs": [
    {
     "data": {
      "text/plain": [
       "1"
      ]
     },
     "execution_count": 24,
     "metadata": {},
     "output_type": "execute_result"
    }
   ],
   "source": [
    "prob.solve()"
   ]
  },
  {
   "cell_type": "code",
   "execution_count": 46,
   "id": "93319c2d-2f4b-4b3c-9a23-8761cb69c45f",
   "metadata": {},
   "outputs": [
    {
     "name": "stdout",
     "output_type": "stream",
     "text": [
      "Total cost =  938.8299999999998\n"
     ]
    }
   ],
   "source": [
    "# results\n",
    "\n",
    "print('Total cost = ',model.objective.value())\n"
   ]
  },
  {
   "cell_type": "code",
   "execution_count": 55,
   "id": "5ac523ea-7df5-4a15-8523-056c0dfd1791",
   "metadata": {},
   "outputs": [
    {
     "name": "stdout",
     "output_type": "stream",
     "text": [
      "Lane 0  :  2.0\n",
      "Lane 1  :  0.0\n",
      "Lane 2  :  15.0\n",
      "Lane 3  :  0.0\n",
      "Lane 4  :  0.0\n",
      "Lane 5  :  0.0\n",
      "Lane 6  :  0.0\n",
      "Lane 7  :  1.0\n",
      "Lane 8  :  0.0\n",
      "Lane 9  :  3.0\n",
      "Lane 10  :  0.0\n",
      "Lane 11  :  2.0\n",
      "Lane 12  :  8.0\n",
      "Lane 13  :  0.0\n",
      "Lane 14  :  0.0\n",
      "Lane 15  :  0.0\n",
      "Lane 16  :  0.0\n",
      "Lane 17  :  0.0\n",
      "Lane 18  :  1.0\n",
      "Lane 19  :  0.0\n",
      "Lane 20  :  0.0\n",
      "Lane 21  :  6.0\n",
      "Lane 22  :  0.0\n",
      "Lane 23  :  1.0\n",
      "Lane 24  :  4.0\n",
      "Lane 25  :  0.0\n"
     ]
    }
   ],
   "source": [
    "# volume of trucks in each lane\n",
    "for l in Lanes:\n",
    "    print(f\"Lane {l}\",' : ',x[l].varValue)"
   ]
  }
 ],
 "metadata": {
  "kernelspec": {
   "display_name": "Python 3 (ipykernel)",
   "language": "python",
   "name": "python3"
  },
  "language_info": {
   "codemirror_mode": {
    "name": "ipython",
    "version": 3
   },
   "file_extension": ".py",
   "mimetype": "text/x-python",
   "name": "python",
   "nbconvert_exporter": "python",
   "pygments_lexer": "ipython3",
   "version": "3.12.0"
  }
 },
 "nbformat": 4,
 "nbformat_minor": 5
}
